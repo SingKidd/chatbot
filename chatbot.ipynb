{
  "nbformat": 4,
  "nbformat_minor": 0,
  "metadata": {
    "colab": {
      "name": "chatbot.ipynb",
      "provenance": [],
      "collapsed_sections": [
        "dEAqZUS40VRb"
      ]
    },
    "kernelspec": {
      "name": "python3",
      "display_name": "Python 3"
    },
    "language_info": {
      "name": "python"
    }
  },
  "cells": [
    {
      "cell_type": "markdown",
      "metadata": {
        "id": "1m-YfIBWzRT6"
      },
      "source": [
        "# ChatBot Program\n",
        "***\n",
        "Welcome! This is a very short and simple chatbot program I've written.\n",
        "\n",
        "The program uses the [ChatterBot](https://chatterbot.readthedocs.io/en/stable/index.html) package and we will cover 2 options for training.<br>\n",
        "The language of choice does not have to be English when training the chatbot.<br> However, in this case we will cover this program with English-based corpus data for instruction ease."
      ]
    },
    {
      "cell_type": "markdown",
      "metadata": {
        "id": "dEAqZUS40VRb"
      },
      "source": [
        "## 1.Package Check/Install"
      ]
    },
    {
      "cell_type": "code",
      "metadata": {
        "id": "1hx1meZKx4Lz",
        "colab": {
          "base_uri": "https://localhost:8080/"
        },
        "outputId": "417cce1a-2b5c-4db8-f026-7295f87adfe5"
      },
      "source": [
        "!pip install chatterbot\n",
        "!pip install chatterbot_corpus"
      ],
      "execution_count": 1,
      "outputs": [
        {
          "output_type": "stream",
          "name": "stdout",
          "text": [
            "Requirement already satisfied: chatterbot in /usr/local/lib/python3.7/dist-packages (1.0.8)\n",
            "Requirement already satisfied: sqlalchemy<1.4,>=1.3 in /usr/local/lib/python3.7/dist-packages (from chatterbot) (1.3.24)\n",
            "Requirement already satisfied: python-dateutil<2.9,>=2.8 in /usr/local/lib/python3.7/dist-packages (from chatterbot) (2.8.2)\n",
            "Requirement already satisfied: mathparse<0.2,>=0.1 in /usr/local/lib/python3.7/dist-packages (from chatterbot) (0.1.2)\n",
            "Requirement already satisfied: pytz in /usr/local/lib/python3.7/dist-packages (from chatterbot) (2018.9)\n",
            "Requirement already satisfied: six>=1.5 in /usr/local/lib/python3.7/dist-packages (from python-dateutil<2.9,>=2.8->chatterbot) (1.15.0)\n",
            "Requirement already satisfied: chatterbot_corpus in /usr/local/lib/python3.7/dist-packages (1.2.0)\n",
            "Requirement already satisfied: PyYAML<4.0,>=3.12 in /usr/local/lib/python3.7/dist-packages (from chatterbot_corpus) (3.13)\n"
          ]
        }
      ]
    },
    {
      "cell_type": "code",
      "metadata": {
        "colab": {
          "base_uri": "https://localhost:8080/"
        },
        "id": "UK_TxUIEy7eU",
        "outputId": "63c5d08d-21cf-460f-c9f3-01a657758594"
      },
      "source": [
        "!pip install --upgrade chatterbot\n",
        "!pip install --upgrade chatterbot_corpus"
      ],
      "execution_count": 2,
      "outputs": [
        {
          "output_type": "stream",
          "name": "stdout",
          "text": [
            "Requirement already satisfied: chatterbot in /usr/local/lib/python3.7/dist-packages (1.0.8)\n",
            "Requirement already satisfied: python-dateutil<2.9,>=2.8 in /usr/local/lib/python3.7/dist-packages (from chatterbot) (2.8.2)\n",
            "Requirement already satisfied: sqlalchemy<1.4,>=1.3 in /usr/local/lib/python3.7/dist-packages (from chatterbot) (1.3.24)\n",
            "Requirement already satisfied: pytz in /usr/local/lib/python3.7/dist-packages (from chatterbot) (2018.9)\n",
            "Requirement already satisfied: mathparse<0.2,>=0.1 in /usr/local/lib/python3.7/dist-packages (from chatterbot) (0.1.2)\n",
            "Requirement already satisfied: six>=1.5 in /usr/local/lib/python3.7/dist-packages (from python-dateutil<2.9,>=2.8->chatterbot) (1.15.0)\n",
            "Requirement already satisfied: chatterbot_corpus in /usr/local/lib/python3.7/dist-packages (1.2.0)\n",
            "Requirement already satisfied: PyYAML<4.0,>=3.12 in /usr/local/lib/python3.7/dist-packages (from chatterbot_corpus) (3.13)\n"
          ]
        }
      ]
    },
    {
      "cell_type": "markdown",
      "metadata": {
        "id": "XuLVTA4q0iB6"
      },
      "source": [
        "## 2.Import chatterbot"
      ]
    },
    {
      "cell_type": "code",
      "metadata": {
        "id": "uHsp4ibR0bkO"
      },
      "source": [
        "from chatterbot import ChatBot"
      ],
      "execution_count": 43,
      "outputs": []
    },
    {
      "cell_type": "markdown",
      "metadata": {
        "id": "vdL3U9XG1B6N"
      },
      "source": [
        "## 3.Build a Bot Model\n",
        "Following are the codes for building/training the chatbot.<br>\n",
        "We will use the `ChatBot()` function for building.<br>\n",
        "Please check the documentation on [ChatterBot](https://chatterbot.readthedocs.io/en/stable/index.html'), but the following codes should work fine with general chats.\n",
        "If you want a different or more response logic, you can add or change the `logic_adapters` list, additonal logic can be found [here](https://chatterbot.readthedocs.io/en/stable/logic/index.html)."
      ]
    },
    {
      "cell_type": "code",
      "metadata": {
        "id": "CNV-EeUH0xFb"
      },
      "source": [
        "bot = ChatBot(name='MyBot', logic_adapters=[\n",
        "    {\n",
        "      \"import_path\": \"chatterbot.logic.BestMatch\",\n",
        "      \"statement_comparison_function\": \"chatterbot.comparisons.LevenshteinDistance\",\n",
        "      \"response_selection_method\": \"chatterbot.response_selection.get_first_response\"\n",
        "    }\n",
        "  ]\n",
        ")"
      ],
      "execution_count": 38,
      "outputs": []
    },
    {
      "cell_type": "markdown",
      "metadata": {
        "id": "88Dtu_BqXCEz"
      },
      "source": [
        "## 4.Bot Model Training"
      ]
    },
    {
      "cell_type": "markdown",
      "metadata": {
        "id": "geDci8iAHx9Y"
      },
      "source": [
        "### OPTION-1: Training with lists of phrases\n",
        "Add phrases for talk and response training.\n",
        "The list should be ordered as: assign list[n] be the talk, then list[n+1] be the response, starting with list[0]."
      ]
    },
    {
      "cell_type": "code",
      "metadata": {
        "id": "0dGF14bMKgAj"
      },
      "source": [
        "phrases=['Hi!','Hi there.','How are you?', 'Fine, thanks.','......']"
      ],
      "execution_count": null,
      "outputs": []
    },
    {
      "cell_type": "markdown",
      "metadata": {
        "id": "O7c-RjwzIAmR"
      },
      "source": [
        "#### Special phrases\n",
        "Add additional phrases for specific uses, i.e. scenario-based for example mathematical phrases, emotions, industrial speech etc."
      ]
    },
    {
      "cell_type": "code",
      "metadata": {
        "id": "Cj3NzAXpKLe2"
      },
      "source": [
        "special_phrases=['Report sales', 'The sales today is $blablabla', '......']"
      ],
      "execution_count": null,
      "outputs": []
    },
    {
      "cell_type": "markdown",
      "metadata": {
        "id": "nC6SAXCAXhjM"
      },
      "source": [
        "#### Starts training with ListTrainer"
      ]
    },
    {
      "cell_type": "code",
      "metadata": {
        "id": "KxXFNIEnXnp6"
      },
      "source": [
        "from chatterbot.trainers import ListTrainer"
      ],
      "execution_count": null,
      "outputs": []
    },
    {
      "cell_type": "code",
      "metadata": {
        "id": "JIqFMdG_Xx-g"
      },
      "source": [
        "list_trainer=ListTrainer(bot)\n",
        "for list_ in (phrases, special_phrases):\n",
        "  list_trainer.train(list_)"
      ],
      "execution_count": null,
      "outputs": []
    },
    {
      "cell_type": "markdown",
      "metadata": {
        "id": "dd7qyGwmKi4h"
      },
      "source": [
        "### OPTION-2: Training with corpus data (Recommended)\n",
        "This case we train with a corpus data from the internet, which has more varieties of phrases and response and hopefully will make the chatbot more realistic.<br>\n",
        "We will use corpus data provided by ChatterBot. However, you can choose a prefered corpus library of your own."
      ]
    },
    {
      "cell_type": "code",
      "metadata": {
        "id": "CrO-KUk9Kh4L"
      },
      "source": [
        "from chatterbot.trainers import ChatterBotCorpusTrainer"
      ],
      "execution_count": 12,
      "outputs": []
    },
    {
      "cell_type": "code",
      "metadata": {
        "colab": {
          "base_uri": "https://localhost:8080/"
        },
        "id": "6KwDq8KZOIQK",
        "outputId": "5b739b76-e9fe-4df8-e443-dd01c5d2700f"
      },
      "source": [
        "cp_trainer = ChatterBotCorpusTrainer(bot)\n",
        "cp_trainer.train('chatterbot.corpus.english')"
      ],
      "execution_count": 39,
      "outputs": [
        {
          "output_type": "stream",
          "name": "stdout",
          "text": [
            "Training ai.yml: [####################] 100%\n",
            "Training botprofile.yml: [####################] 100%\n",
            "Training computers.yml: [####################] 100%\n",
            "Training conversations.yml: [####################] 100%\n",
            "Training emotion.yml: [####################] 100%\n",
            "Training food.yml: [####################] 100%\n",
            "Training gossip.yml: [####################] 100%\n",
            "Training greetings.yml: [####################] 100%\n",
            "Training health.yml: [####################] 100%\n",
            "Training history.yml: [####################] 100%\n",
            "Training humor.yml: [####################] 100%\n",
            "Training literature.yml: [####################] 100%\n",
            "Training money.yml: [####################] 100%\n",
            "Training movies.yml: [####################] 100%\n",
            "Training politics.yml: [####################] 100%\n",
            "Training psychology.yml: [####################] 100%\n",
            "Training science.yml: [####################] 100%\n",
            "Training sports.yml: [####################] 100%\n",
            "Training trivia.yml: [####################] 100%\n"
          ]
        }
      ]
    },
    {
      "cell_type": "markdown",
      "metadata": {
        "id": "4ud5io6IOsCe"
      },
      "source": [
        "## 5.Start Chatting!\n",
        "The basic training and building procedures are now done. Try it for yourself!"
      ]
    },
    {
      "cell_type": "code",
      "metadata": {
        "colab": {
          "base_uri": "https://localhost:8080/"
        },
        "id": "9XZTwkl6PNm5",
        "outputId": "512d7be5-3d94-496a-e9b5-7d89ec665ff7"
      },
      "source": [
        "print(bot.get_response('hi'))"
      ],
      "execution_count": 40,
      "outputs": [
        {
          "output_type": "stream",
          "name": "stdout",
          "text": [
            "How are you doing?\n"
          ]
        }
      ]
    },
    {
      "cell_type": "markdown",
      "metadata": {
        "id": "5fTb3bqdYWGx"
      },
      "source": [
        "## 6.Post-Modeling Adjustment\n",
        "Some additional parameters can be changed for specific requirements, please see [here](https://chatterbot.readthedocs.io/en/stable/logic/index.html)."
      ]
    },
    {
      "cell_type": "markdown",
      "metadata": {
        "id": "Z0fLeR83YwbG"
      },
      "source": [
        "__Thank You Very Much!__"
      ]
    }
  ]
}